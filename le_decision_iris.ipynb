{
 "cells": [
  {
   "cell_type": "markdown",
   "id": "grateful-eight",
   "metadata": {
    "deletable": false,
    "editable": false,
    "nbgrader": {
     "cell_type": "markdown",
     "checksum": "18acfb59f8847b63cc323915c243c889",
     "grade": false,
     "grade_id": "cell-1cd086f0bf2f7c4e",
     "locked": true,
     "schema_version": 3,
     "solution": false,
     "task": false
    }
   },
   "source": [
    "# Decision Trees\n",
    "\n",
    "For the following decision tree task we will use the Iris dataset. This dataset contains the sepal and petal width and length for three different iris species (Schwertlilien):\n",
    "![iris-dataset.png](attachment/iris-dataset.png)\n",
    "\n",
    "This is a common dataset to illustrate multi-class classification and we will use this later in our decision tree example to classify the species based on those measured leaf dimensions.\n",
    "\n",
    "## Preprocessing\n",
    "\n",
    "In the following we will use pandas method chaining to prepare the dataset.\n"
   ]
  },
  {
   "cell_type": "code",
   "execution_count": 22,
   "outputs": [],
   "source": [
    "import pandas as pd\n",
    "import numpy as np\n",
    "import networkx as nx\n",
    "from pyvis.network import Network\n",
    "import warnings\n",
    "warnings.filterwarnings('ignore')\n",
    "colorblind = ['#0072B2',\n",
    "              '#E69F00',\n",
    "              '#F0E442',\n",
    "              '#009E73',\n",
    "              '#56B4E9',\n",
    "              '#D55E00',\n",
    "              '#CC79A7',\n",
    "              '#000000'\n",
    "              ]"
   ],
   "metadata": {
    "collapsed": false,
    "ExecuteTime": {
     "end_time": "2023-08-23T09:26:35.422655Z",
     "start_time": "2023-08-23T09:26:35.366876Z"
    }
   }
  },
  {
   "cell_type": "code",
   "execution_count": 23,
   "id": "emotional-heating",
   "metadata": {
    "deletable": false,
    "nbgrader": {
     "cell_type": "code",
     "checksum": "896d1e13200a1451d0a8ca4a78f9977d",
     "grade": false,
     "grade_id": "Preprocessing_Functions_1",
     "locked": false,
     "schema_version": 3,
     "solution": true,
     "task": false
    },
    "ExecuteTime": {
     "end_time": "2023-08-23T09:26:35.450747Z",
     "start_time": "2023-08-23T09:26:35.376132Z"
    }
   },
   "outputs": [],
   "source": [
    "from functools import wraps\n",
    "\n",
    "def log_name(func):\n",
    "    @wraps(func)\n",
    "    def wrapper(*args, **kwargs):\n",
    "        result = func(*args, **kwargs)\n",
    "        print(f\"\\n{func.__name__}:\")\n",
    "        return result\n",
    "    return wrapper\n",
    "\n",
    "def log_shape(func):\n",
    "    @wraps(func)\n",
    "    def wrapper(*args, **kwargs):\n",
    "        result = func(*args, **kwargs)\n",
    "        print(f\"\\tshape: {result.shape}\")\n",
    "        return result\n",
    "    return wrapper\n",
    "\n",
    "def log_columns(func):\n",
    "    @wraps(func)\n",
    "    def wrapper(*args, **kwargs):\n",
    "        result = func(*args, **kwargs)\n",
    "        print(f\"\\tcolumns: {result.columns.values}\")\n",
    "        return result\n",
    "    return wrapper\n",
    "\n",
    "@log_columns\n",
    "@log_shape\n",
    "@log_name\n",
    "def load(df, path):\n",
    "    \"\"\"Loads the dataset from path.\"\"\"\n",
    "    df = pd.read_csv(path)\n",
    "    return df"
   ]
  },
  {
   "cell_type": "code",
   "execution_count": null,
   "id": "electrical-channel",
   "metadata": {
    "deletable": false,
    "nbgrader": {
     "cell_type": "code",
     "checksum": "f1a246b004a69f73ef18ba4f69d778ef",
     "grade": false,
     "grade_id": "Preprocessing_categorical",
     "locked": false,
     "schema_version": 3,
     "solution": true,
     "task": false
    },
    "is_executing": true,
    "ExecuteTime": {
     "start_time": "2023-08-23T09:26:35.379247Z"
    }
   },
   "outputs": [],
   "source": [
    "@log_columns\n",
    "@log_shape\n",
    "@log_name\n",
    "def convert_to_categorical(df, col_name: str):\n",
    "    df[col_name] = df[col_name].astype(\"category\")\n",
    "    return df"
   ]
  },
  {
   "cell_type": "markdown",
   "id": "painted-stevens",
   "metadata": {
    "deletable": false,
    "editable": false,
    "nbgrader": {
     "cell_type": "markdown",
     "checksum": "620cdd5635ec274f3ee9530112c7ee11",
     "grade": false,
     "grade_id": "cell-a29a52c7ce874342",
     "locked": true,
     "schema_version": 3,
     "solution": false,
     "task": false
    }
   },
   "source": [
    "Next we add the column 'class' to the dataset. E.g. this column should contain a 0 if the species of the row is 'Iris-setosa', a 1 if the species of the row is 'Iris-versicolor' and a 2 if the species is 'Iris-virginica'."
   ]
  },
  {
   "cell_type": "code",
   "execution_count": null,
   "id": "indonesian-combination",
   "metadata": {
    "deletable": false,
    "nbgrader": {
     "cell_type": "code",
     "checksum": "725841df2b5c1fb36f357cc4c7f529e1",
     "grade": false,
     "grade_id": "Preprocessing_add_labels",
     "locked": false,
     "schema_version": 3,
     "solution": true,
     "task": false
    },
    "is_executing": true
   },
   "outputs": [],
   "source": [
    "@log_columns\n",
    "@log_shape\n",
    "@log_name\n",
    "def add_class_labels(df):\n",
    "    df[\"class\"] = df.species.cat.rename_categories([0, 1, 2])\n",
    "    return df"
   ]
  },
  {
   "cell_type": "markdown",
   "id": "qualified-diabetes",
   "metadata": {
    "deletable": false,
    "editable": false,
    "nbgrader": {
     "cell_type": "markdown",
     "checksum": "7ef13ad759c6cabeec1bf2ed8702f609",
     "grade": false,
     "grade_id": "cell-db8890bc9e34914b",
     "locked": true,
     "schema_version": 3,
     "solution": false,
     "task": false
    }
   },
   "source": [
    "Next we use the dataframe `.pipe()` method to chain the previously implemented `load`, `convert_to_categorical`, and `add_class_labels` functions to one preprocessing step:"
   ]
  },
  {
   "cell_type": "code",
   "execution_count": null,
   "id": "united-liabilities",
   "metadata": {
    "deletable": false,
    "nbgrader": {
     "cell_type": "code",
     "checksum": "ee4f02c1b114e16f5d1c632a9dae9392",
     "grade": false,
     "grade_id": "Preprocessing_chain",
     "locked": false,
     "schema_version": 3,
     "solution": true,
     "task": false
    },
    "is_executing": true
   },
   "outputs": [
    {
     "name": "stdout",
     "output_type": "stream",
     "text": [
      "\n",
      "load:\n",
      "\tshape: (150, 5)\n",
      "\tcolumns: ['sepal_length' 'sepal_width' 'petal_length' 'petal_width' 'species']\n",
      "\n",
      "convert_to_categorical:\n",
      "\tshape: (150, 5)\n",
      "\tcolumns: ['sepal_length' 'sepal_width' 'petal_length' 'petal_width' 'species']\n",
      "\n",
      "add_class_labels:\n",
      "\tshape: (150, 6)\n",
      "\tcolumns: ['sepal_length' 'sepal_width' 'petal_length' 'petal_width' 'species'\n",
      " 'class']\n"
     ]
    }
   ],
   "source": [
    "df = pd.DataFrame()\n",
    "df = (\n",
    "    df.pipe(load, path='iris.csv')\n",
    "      .pipe(convert_to_categorical, col_name='species')\n",
    "      .pipe(add_class_labels)\n",
    ")"
   ]
  },
  {
   "cell_type": "markdown",
   "id": "communist-parks",
   "metadata": {
    "deletable": false,
    "editable": false,
    "nbgrader": {
     "cell_type": "markdown",
     "checksum": "5b7adc8d122e5b42bfec20f7dcc9d4c9",
     "grade": false,
     "grade_id": "cell-dcb8666a92ef8970",
     "locked": true,
     "schema_version": 3,
     "solution": false,
     "task": false
    }
   },
   "source": [
    "Now that we have the class labels, we can start implementing our first decision tree.\n",
    "\n",
    "To be more precise, we will implement a\n",
    "- **binary**: each node stands for a split into two classes\n",
    "- **classification**: we want to decide based on the features of the leaves to which iris species the flower belongs to\n",
    "- **tree**\n",
    "\n",
    "So each split involves one of the four features and one condition (e.g. `petal_width < 1.1`). With each split we want to reduce the impurity of the resulting leaves as much as possible. To define this impurity we first need to define a cost function:\n",
    "\n",
    "## Cost function\n",
    "\n",
    "We will implement the entropy measure:\n",
    "\n",
    "In information theory entropy is a measure of the average uncertainty in a random variable. Referring to a split of the dataset, the entropy tells us about the randomness in each part of the dataset.\n",
    "It is defined as:\n",
    "\\begin{align}\n",
    "H(X) &= - \\sum_i^n p_i(x) \\cdot log_2(p_i(x))\n",
    "\\end{align}\n",
    "Each possible realization $x$ (each possible class label) of the discrete random variable $X$ (the class) has a given probability to occur. E.g. in our initial dataset the probability for each class label is $\\frac{1}{3}$.  \n",
    "Entropy is basically a weighted sum of the logarithm of these probabilities. Our random variable $X$ here is the class label."
   ]
  },
  {
   "cell_type": "markdown",
   "id": "complimentary-dressing",
   "metadata": {
    "deletable": false,
    "editable": false,
    "nbgrader": {
     "cell_type": "markdown",
     "checksum": "7844709b12f33e1152200b54b764ea11",
     "grade": false,
     "grade_id": "cell-c7e7021f8c532f55",
     "locked": true,
     "schema_version": 3,
     "solution": false,
     "task": false
    }
   },
   "source": [
    "Now we implement the `entropy` function, that calculates the entropy of a datasets for a given class column."
   ]
  },
  {
   "cell_type": "code",
   "execution_count": null,
   "id": "intelligent-cambridge",
   "metadata": {
    "deletable": false,
    "nbgrader": {
     "cell_type": "code",
     "checksum": "6661d7474c95d4fd112483553c5f777d",
     "grade": false,
     "grade_id": "Cost_function_entropy",
     "locked": false,
     "schema_version": 3,
     "solution": true,
     "task": false
    },
    "is_executing": true,
    "ExecuteTime": {
     "start_time": "2023-08-23T09:26:35.901674Z"
    }
   },
   "outputs": [],
   "source": [
    "def entropy(df: pd.DataFrame, y_col: str) -> float:\n",
    "    \"\"\"Calculates the entropy in a dataset for a specific class column.\n",
    "    \n",
    "    Args:\n",
    "        df: Dataset as pandas dataframe.\n",
    "        y_col: The label of the column that conatins the classes, e.g. 'species'.\n",
    "        \n",
    "    Returns:\n",
    "        e: The entropy of df[y_col] in bits.\n",
    "        \n",
    "    Example:\n",
    "    >>> e = entropy(df, 'species')\n",
    "    \"\"\"\n",
    "\n",
    "    value_counts = df[y_col].value_counts(normalize=True)\n",
    "    \n",
    "    e = -1 * sum([vc * np.log2(vc) for vc in value_counts if vc != 0])\n",
    "    \n",
    "    return e"
   ]
  },
  {
   "cell_type": "markdown",
   "id": "billion-climate",
   "metadata": {
    "deletable": false,
    "editable": false,
    "nbgrader": {
     "cell_type": "markdown",
     "checksum": "d950833ea38215b0c968d167a61e3e1b",
     "grade": false,
     "grade_id": "cell-0c953e069193f3ea",
     "locked": true,
     "schema_version": 3,
     "solution": false,
     "task": false
    }
   },
   "source": [
    "## Greedy strategy\n",
    "\n",
    "Next we need to find the splits. We will start with the full dataset `df` using all 4 features `['sepal_length', 'sepal_width', 'petal_length', 'petal_width']`.  \n",
    "First we can calculate the node impurity as the entropy of our whole dataset.  \n",
    "\n",
    "For each unique value of each feature we can split the dataset with a `<=` condition.  \n",
    "E.g. we split the dataset by the condition `'sepal_length' <= 6.4`\n",
    "The subset that fulfills this condition we call the *left* split and subset that doesn't fulfill this condition we call the *right* split. This naming convention simply defines how to visually order the tree.\n",
    "\n",
    "Now we get the subsets for the above mentioned condition and calculate the entropy of the left and right subset for the `'species'`. We also assign the resulting entropies to `left_e` and `right_e` respectively."
   ]
  },
  {
   "cell_type": "code",
   "execution_count": 28,
   "id": "honey-exercise",
   "metadata": {
    "deletable": false,
    "nbgrader": {
     "cell_type": "code",
     "checksum": "aeebb5a7371928e2fe7cdf8b6f4ba545",
     "grade": false,
     "grade_id": "Greedy_strategy_split",
     "locked": false,
     "schema_version": 3,
     "solution": true,
     "task": false
    },
    "ExecuteTime": {
     "end_time": "2023-08-23T09:26:35.912662Z",
     "start_time": "2023-08-23T09:26:35.909835Z"
    }
   },
   "outputs": [],
   "source": [
    "left = df.where(df[\"sepal_length\"] <= 6.4)\n",
    "right = df.where(df[\"sepal_length\"] > 6.4)\n",
    "\n",
    "left_e = entropy(left, \"species\")\n",
    "right_e = entropy(right, \"species\")"
   ]
  },
  {
   "cell_type": "markdown",
   "id": "proof-killing",
   "metadata": {
    "deletable": false,
    "editable": false,
    "nbgrader": {
     "cell_type": "markdown",
     "checksum": "efb5bf3e107cf71166553b33cfe962cd",
     "grade": false,
     "grade_id": "cell-cf4c6ba57f578103",
     "locked": true,
     "schema_version": 3,
     "solution": false,
     "task": false
    }
   },
   "source": [
    "So we now have the new entropies for this split. But how do we compare it to the entropy before?\n",
    "\n",
    "This is the point where the information gain comes in. Information gain is used in the nomenclature of decision trees to describe how much information we gained by splitting the dataset. In the latter case it is a synonym for the Kullback-Leibler divergence. We will describe the gain of information by splitting the dataset in the following:\n",
    "\n",
    "By splitting the dataset we obtain subsets of different sizes:"
   ]
  },
  {
   "cell_type": "code",
   "execution_count": 29,
   "id": "indie-intersection",
   "metadata": {
    "deletable": false,
    "editable": false,
    "nbgrader": {
     "cell_type": "code",
     "checksum": "5fb1096ef0da0c4c0849c8d09a9301e7",
     "grade": false,
     "grade_id": "cell-58a19c0979f26173",
     "locked": true,
     "schema_version": 3,
     "solution": false,
     "task": false
    },
    "ExecuteTime": {
     "end_time": "2023-08-23T09:26:35.918519Z",
     "start_time": "2023-08-23T09:26:35.915279Z"
    }
   },
   "outputs": [
    {
     "name": "stdout",
     "output_type": "stream",
     "text": [
      "115\n",
      "35\n"
     ]
    }
   ],
   "source": [
    "print(df[df['sepal_length'] <= 6.4].shape[0])\n",
    "print(df[df['sepal_length'] > 6.4].shape[0])"
   ]
  },
  {
   "cell_type": "markdown",
   "id": "superior-stomach",
   "metadata": {
    "deletable": false,
    "editable": false,
    "nbgrader": {
     "cell_type": "markdown",
     "checksum": "0b2f898c26933769e2bd4ca9f0ed9094",
     "grade": false,
     "grade_id": "cell-b18479faccb586ca",
     "locked": true,
     "schema_version": 3,
     "solution": false,
     "task": false
    }
   },
   "source": [
    "What we can do now is to calculate the difference between the original entropy in the dataset and the individual entropies of the subsets weighted by their size:\n",
    "\\begin{align}\n",
    "IG(split) &= E(X) - \\left( \\frac{|X_{left}|}{|X|} \\cdot E(X_{left}) + \\frac{|X_{right}|}{|X|} \\cdot E(X_{right}) \\right)\n",
    "\\end{align}\n",
    "...where $|\\_|$ stands for the number of samples in the respective subset.\n",
    "\n",
    "Now we implement the function `information_gain`, so that it calculates the information gain for the `y_col` on a given dataframe `df` when it is split on the column `split_col` with a `<=` condition on the `split_val`. Additionally, to the information gain, also return the left and right entropy:"
   ]
  },
  {
   "cell_type": "code",
   "execution_count": 30,
   "id": "embedded-voice",
   "metadata": {
    "deletable": false,
    "nbgrader": {
     "cell_type": "code",
     "checksum": "aff348572697f129096cad9780a9c821",
     "grade": false,
     "grade_id": "information_gain_implementation",
     "locked": false,
     "schema_version": 3,
     "solution": true,
     "task": false
    },
    "ExecuteTime": {
     "end_time": "2023-08-23T09:26:35.952021Z",
     "start_time": "2023-08-23T09:26:35.921393Z"
    }
   },
   "outputs": [],
   "source": [
    "def information_gain(df: pd.DataFrame, split_col: str, split_val: float, y_col: str) -> float:\n",
    "    \"\"\"Calculates the information gain of a split.\n",
    "    \n",
    "    Args:\n",
    "        df: Dataset before split as pandas dataframe.\n",
    "        split_col: Column which is split by a <= condition on:\n",
    "        split_val: ...\n",
    "        y_col: Column with the class labels on which we want to reduce entropy.\n",
    "        \n",
    "    Returns:\n",
    "        IG: The information gain in bits.\n",
    "        left_e: the entropy of the left split.\n",
    "        right_e: the entropy of the right split.\n",
    "        \n",
    "    Example:\n",
    "        information_gain(df, 'sepal_length', 6.4, 'species')\n",
    "    \"\"\"\n",
    "\n",
    "    e_x = entropy(df, y_col)\n",
    "    \n",
    "    #left = df.where(df[split_col] <= split_val)\n",
    "    #right = df.where(df[split_col] > split_val)\n",
    "    left = df[df[split_col] <= split_val]\n",
    "    right = df[df[split_col] > split_val]\n",
    "    \n",
    "\n",
    "    left_e = entropy(left, y_col)\n",
    "    right_e = entropy(right, y_col)\n",
    "    \n",
    "    size_left = left.shape[0]\n",
    "    size_right = right.shape[0]\n",
    "    size = df.shape[0]\n",
    "    \n",
    "    IG = e_x - ((size_left / size) * left_e + (size_right / size) * right_e)\n",
    "    \n",
    "    return IG, left_e, right_e"
   ]
  },
  {
   "cell_type": "markdown",
   "id": "arctic-shooting",
   "metadata": {
    "deletable": false,
    "editable": false,
    "nbgrader": {
     "cell_type": "markdown",
     "checksum": "30461a556c0993db6e175613fe63b0bc",
     "grade": false,
     "grade_id": "cell-34bc54fef2261deb",
     "locked": true,
     "schema_version": 3,
     "solution": false,
     "task": false
    }
   },
   "source": [
    "To classify our dataset, we want to reduce the impurity - in our case the entropy - in the splits of the dataset as far as possible. We can now calculate the information gain, so the reduction in entropy for arbitrary splits. Thereby we are able to greedy select the split with the highest information gain.\n",
    "\n",
    "## Building the Tree\n",
    "\n",
    "### Splitting\n",
    "We first write a function for splitting and thus implement the `greedy_split` function such that it finds the split on all features with the largest information gain and returns a dictionary with the information on the split. If there is no split with an information gain, the node is pure and the function must return a dictionary that only contains the node entropy before the split:"
   ]
  },
  {
   "cell_type": "code",
   "execution_count": 31,
   "id": "recovered-topic",
   "metadata": {
    "deletable": false,
    "nbgrader": {
     "cell_type": "code",
     "checksum": "ecedd2a3161e11225bf2df02a95356a3",
     "grade": false,
     "grade_id": "greedy_split_implementation",
     "locked": false,
     "schema_version": 3,
     "solution": true,
     "task": false
    },
    "ExecuteTime": {
     "end_time": "2023-08-23T09:26:35.955687Z",
     "start_time": "2023-08-23T09:26:35.927581Z"
    }
   },
   "outputs": [],
   "source": [
    "def greedy_split(df: pd.DataFrame, x_cols: list, y_col: str) -> dict:\n",
    "    \"\"\"Finds the split with the largest information gain.\n",
    "    \n",
    "    Args:\n",
    "        df: Dataset before split as pandas dataframe.\n",
    "        x_cols: The labels of the feature columns.\n",
    "        y_col: The column with the class labels.\n",
    "        \n",
    "    Returns:\n",
    "        split: A dictionary with the keys `feature`, `value`, `ig`, `left_e`, `right_e`, and `node_e`.\n",
    "               Returns {'node_e': val} if no split with an information gain>0 was found.\n",
    "        \n",
    "    Example:\n",
    "        >>> x_cols = df.columns[:3]\n",
    "        >>> y_col = 'species'\n",
    "        >>> greedy_split(df, x_cols, y_col)\n",
    "        >>> {'feature': 'petal_length', \n",
    "             'value': 1.9, \n",
    "             'ig': 0.9182958340544894, \n",
    "             'left_e': 0.0, \n",
    "             'right_e': 1.0, \n",
    "             'node_e': 1.584962500721156\n",
    "             }\n",
    "    \"\"\"\n",
    "    split_dict = {\n",
    "        'feature': None, \n",
    "        'value': None, \n",
    "        'ig': 0, \n",
    "        'left_e': None, \n",
    "        'right_e': None, \n",
    "        'node_e': None\n",
    "    }\n",
    "    max_IG = 0\n",
    "    for split_col in x_cols:\n",
    "        for split_val in df[split_col]:\n",
    "            IG, left_e, right_e = information_gain(df, split_col, split_val, y_col)\n",
    "            \n",
    "            if IG > max_IG:\n",
    "                split_dict[\"feature\"] = split_col\n",
    "                split_dict[\"value\"] = split_val\n",
    "                split_dict[\"ig\"] = IG\n",
    "                split_dict[\"left_e\"] = left_e\n",
    "                split_dict[\"right_e\"] = right_e\n",
    "                split_dict[\"node_e\"] = entropy(df, y_col)\n",
    "                max_IG = IG\n",
    "    \n",
    "    if split_dict[\"ig\"] != 0:\n",
    "        return split_dict\n",
    "    else:\n",
    "        return {\"node_e\": entropy(df, y_col)}"
   ]
  },
  {
   "cell_type": "code",
   "execution_count": 32,
   "id": "refined-pendant",
   "metadata": {
    "deletable": false,
    "editable": false,
    "nbgrader": {
     "cell_type": "code",
     "checksum": "a6bfd04bd278974668e5d1a2919538ad",
     "grade": true,
     "grade_id": "greedy_split_implementation_check",
     "locked": true,
     "points": 2,
     "schema_version": 3,
     "solution": false,
     "task": false
    },
    "ExecuteTime": {
     "end_time": "2023-08-23T09:26:36.258843Z",
     "start_time": "2023-08-23T09:26:35.934436Z"
    }
   },
   "outputs": [],
   "source": [
    "x_cols = df.columns[:3]\n",
    "y_col = 'species'\n",
    "split = greedy_split(df, x_cols, y_col)\n",
    "\n",
    "assert split['feature'] == 'petal_length'\n",
    "assert split['value'] == 1.9\n",
    "assert abs(np.round(split['ig'], 3)- 0.918) <= 0.01\n",
    "assert abs(np.round(split['left_e']) - 0) <= 0.01\n",
    "\n",
    "assert len(greedy_split(df[:50], x_cols, y_col)) == 1"
   ]
  },
  {
   "cell_type": "markdown",
   "id": "tested-potter",
   "metadata": {
    "deletable": false,
    "editable": false,
    "nbgrader": {
     "cell_type": "markdown",
     "checksum": "d433b3fe1fae8f3240aae3bc461ed067",
     "grade": false,
     "grade_id": "cell-1754757f3a40eed2",
     "locked": true,
     "schema_version": 3,
     "solution": false,
     "task": false
    }
   },
   "source": [
    "Now we can build our `DecisionTree` class. We keep acting on dataframes as this keeps track of the meta data. For the fit method we simply define the feature columns (`x_cols`) and the label column (`y_col`).   \n",
    "As additional hyperparameters we define a maximum depth (`max_depth`) at which splitting should be stopped and a number of samples at which no further splits shall be performed (`stop_n`).\n",
    "\n",
    "As our decision tree is basically a directed graph we will use the python networkx (`nx`) graph library to represent this.\n",
    "**We still need to implement the `_fit()` and `_predict()` methods.**\n",
    "\n",
    "Both of them are recursive methods that should terminate on certain conditions:\n",
    "\n",
    "### `_fit()`\n",
    "This method takes the current subset `df`, information about the node id of the parent node (`parent`), the level of the tree (`level`), and the direction of the split where the current subset originated from (`direction`, 'left' or 'right').  \n",
    "Your implementation should return as soon as either the node is pure (`len(split) == 1`), the `level` reached the `max_depth`, or the number of samples in the dataset is `<= stop_n`.  \n",
    "Those end nodes are called *leaf* nodes.  \n",
    "\n",
    "Otherwise, the current subset should be split and each part should be passed to `_fit()`.\n",
    "As the tree is build in the `_add_node()` method, nothing has to be returned.\n",
    "\n",
    "\n",
    "### `_predict()`\n",
    "This method takes a dataset and traverses it through the tree structure. When it did not reach a leaf node it simply performs a split, passes the new subsets on to the left and right node of the next level and then returns the labels obtained from the previous `_predict` calls on the subset.  \n",
    "\n",
    "When it reaches a leaf node it should create a pandas Series object with the row index of the current subset. As values the Series contains the category (`'cat'` in the node dict) of the node (e.g. `pd.Series({0: 'Iris-setosa', 3: 'Iris-setosa'})`). It then extends the current labels with the newly created Series and returns it.  \n",
    "\n",
    "Step by step this should create an unordered Series that contains the predicted class labels for all samples in the dataset.  \n",
    "On the level of the `predict()` method an unordered Series with the predicted labels of all samples in df is needed to append them as new column to the dataframe and return it.\n"
   ]
  },
  {
   "cell_type": "code",
   "execution_count": 33,
   "id": "killing-active",
   "metadata": {
    "deletable": false,
    "nbgrader": {
     "cell_type": "code",
     "checksum": "f291d6d7a62e29299080bf9f38ff7de3",
     "grade": false,
     "grade_id": "Decision_Tree_build",
     "locked": false,
     "schema_version": 3,
     "solution": true,
     "task": false
    },
    "ExecuteTime": {
     "end_time": "2023-08-23T09:26:36.267825Z",
     "start_time": "2023-08-23T09:26:36.265709Z"
    }
   },
   "outputs": [],
   "source": [
    "class DecisionTree:\n",
    "    \n",
    "    def __init__(self):\n",
    "        self.G = nx.DiGraph()\n",
    "        self.cmap = None\n",
    "        self.classes = None\n",
    "        self.x_cols = None\n",
    "        self.y_col = None\n",
    "        self.max_depth = None\n",
    "        self.stop_n = None\n",
    "    \n",
    "    def fit(self, df, x_cols, y_col, max_depth=10, stop_n=1):\n",
    "        self.classes = df[y_col].unique()\n",
    "        self.x_cols = x_cols\n",
    "        self.y_col = y_col\n",
    "        self.max_depth = max_depth\n",
    "        self.stop_n = stop_n\n",
    "        self.cmap = {self.classes[n]: c for n, c in enumerate(colorblind[:len(self.classes)])}\n",
    "        self._fit(df)\n",
    "        return\n",
    "        \n",
    "    def _fit(self, df, parent=-1, level=0, direction=None):\n",
    "        \"\"\"Recursive method to generate the tree.\n",
    "        \n",
    "        This method recursively splits the dataset till either the node is pure (len(split) == 1),\n",
    "        the level reached max_depth (excluding the parent node, hence the initial level is 0),\n",
    "        or the current subset has fewer or an equal amount of samples as stop_n.\n",
    "        \n",
    "        Args:\n",
    "            df: The current subset.\n",
    "            parent: the parent idx.\n",
    "            level: the level in the tree.\n",
    "            direction: 'left' or 'right' depending on whether df originate from a left or right split.\n",
    "        \"\"\"\n",
    "\n",
    "        split = greedy_split(df, self.x_cols, self.y_col)\n",
    "        \n",
    "\n",
    "        if level >= self.max_depth or len(split) == 1 or df.shape[0] <= self.stop_n:\n",
    "            # 'leaf'-node\n",
    "            idx = self._add_node(split, df, parent, level, direction, 'leaf')\n",
    "        \n",
    "        else:\n",
    "            # 'split'-node\n",
    "            idx = self._add_node(split, df, parent, level, direction, 'split')\n",
    "\n",
    "            df_left = df[df[split[\"feature\"]] <= split[\"value\"]] \n",
    "            df_right = df[df[split[\"feature\"]] > split[\"value\"]]\n",
    "\n",
    "            new_level = level + 1\n",
    "\n",
    "            self._fit(df_left, parent=idx, level=new_level, direction=\"left\")\n",
    "            self._fit(df_right, parent=idx, level=new_level, direction=\"right\")\n",
    "    \n",
    "    def predict(self, df: pd.DataFrame) -> pd.Series:\n",
    "        # appends an unordered Series with the predicted labels of all samples from the _predict() method \n",
    "        # appends them as new column to the dataframe and returns it\n",
    "        predicted = self._predict(df)\n",
    "        df[f'{self.y_col}_pred'] = predicted.astype('category')\n",
    "        return df\n",
    "    \n",
    "    def _predict(self, df, idx=0, labels=pd.Series()):\n",
    "        \"\"\"Predicts the class labels for the subset df recursively.\n",
    "        \n",
    "        Args:\n",
    "            df: The current subset as DataFrame.\n",
    "            idx: The current node idx.\n",
    "            labels: A pandas Series with increasing size the more leaf nodes were reached.\n",
    "            \n",
    "        Returns:\n",
    "            labels: The labels of all samples in the initial df in a pandas Series.\n",
    "            \n",
    "        Example:\n",
    "            >>> predicted = self._predict(df)\n",
    "            >>> df[f'{self.y_col}_pred'] = predicted.astype('category')\n",
    "   \n",
    "        \"\"\"\n",
    "        # You don't need to change these two lines:\n",
    "        n = self.G.nodes[idx] # nodes of the constructed tree\n",
    "        # Looks like this:\n",
    "        # {'shape': 'box',\n",
    "        #  'color': '#E69F00',\n",
    "        #  'label': 'petal_length <= 1.9\\nentropy = 1.58\\nsamples = 120\\nvalues = [43 39 38]\\nclass = Iris-setosa',\n",
    "        #  'level': 0,\n",
    "        #  'cat': 'Iris-setosa',\n",
    "        #  'title': 'split',\n",
    "        #  'feature': 'petal_length',\n",
    "        #  'value': 1.9}\n",
    "        \n",
    "        edges = self.G[idx] # edges of the constructed tree\n",
    "        # Looks like this:\n",
    "        # {12: {'title': 'left'},\n",
    "        #  17: {'title': 'right'}}\n",
    "        # The keys are the node ids of the destination of the edge.\n",
    "        \n",
    "        # You should start with the case of a leaf node where your solution should\n",
    "        # extend the current labels with the newly created series and return it.\n",
    "        # \n",
    "        # Then implement the case where the dataset has to be split,\n",
    "        # and the new subsets have to be passed on to the left and right node of the next level\n",
    "        # then define labels obtained from the previous _predict calls on the subset\n",
    "        \n",
    "\n",
    "        if n[\"title\"] == \"leaf\":\n",
    "            return pd.Series(\n",
    "                data=[n[\"cat\"] for _ in range(df.shape[0])],\n",
    "                index=df.index.values\n",
    "            )\n",
    "        \n",
    "        else:\n",
    "            feature = n[\"feature\"]\n",
    "            value = n[\"value\"]\n",
    "            \n",
    "            df_left = df[df[feature] <= value]\n",
    "            df_right = df[df[feature] > value]\n",
    "            \n",
    "            for idx, child in edges.items():\n",
    "                if child[\"title\"] == \"left\":\n",
    "                    idx_left = idx\n",
    "                elif child[\"title\"] == \"right\":\n",
    "                    idx_right = idx\n",
    "                \n",
    "            labels_left = self._predict(df_left, idx=idx_left, labels=labels)\n",
    "            labels_right = self._predict(df_right, idx=idx_right, labels=labels)\n",
    "            \n",
    "            labels = pd.concat([labels_left, labels_right])\n",
    "            \n",
    "        \n",
    "        return labels\n",
    "\n",
    "    def _add_node(self, split, df, parent, level, direction, node_type):\n",
    "        \"\"\"Adds the node to the networkx graph.\n",
    "        \n",
    "        Args:\n",
    "            split: the split resulting from greedy_split.\n",
    "            df: the current dataset of the node.\n",
    "            parent: the parent idx.\n",
    "            level: the level in the tree.\n",
    "            direction: 'left' or 'right' depending on whether df originate from a left or right split.\n",
    "            node_type: 'split' or 'leaf'.\n",
    "            \n",
    "        Returns:\n",
    "            idx: the current node idx\n",
    "        \"\"\"\n",
    "        idx = len(self.G.nodes())\n",
    "        cat = df[self.y_col].value_counts().idxmax()\n",
    "        label = (f\"entropy = {np.round(split['node_e'], 2)}\\n\"\n",
    "                 f\"samples = {df.shape[0]}\\n\"\n",
    "                 f\"values = {df[self.y_col].value_counts().values}\\n\"\n",
    "                 f\"class = {cat}\"\n",
    "                )\n",
    "        if node_type == 'leaf':\n",
    "            self.G.add_node(idx,\n",
    "                            shape='ellipse',\n",
    "                            color=self.cmap[cat],\n",
    "                            label=label,\n",
    "                            level=level,\n",
    "                            cat=cat,\n",
    "                            title=node_type\n",
    "                           )\n",
    "            self.G.add_edge(parent, idx, title=direction)\n",
    "            return idx\n",
    "        label = f\"{split['feature']} <= {split['value']}\\n\"+label\n",
    "        self.G.add_node(idx,\n",
    "                        shape='box',\n",
    "                        color=self.cmap[cat],\n",
    "                        label=label,\n",
    "                        level=level,\n",
    "                        cat=cat,\n",
    "                        title=node_type,\n",
    "                        feature=split['feature'],\n",
    "                        value=split['value']\n",
    "                       )\n",
    "        if parent >= 0:\n",
    "            self.G.add_edge(parent, idx, title=direction)\n",
    "        return idx        \n",
    "    \n",
    "    def plot(self):\n",
    "        net = Network(height=900,\n",
    "                      width=900,\n",
    "                      notebook=True,\n",
    "                      directed=True,\n",
    "                      layout='hierarchical',\n",
    "                      cdn_resources='in_line')\n",
    "        net.from_nx(self.G)\n",
    "        net.set_options(\n",
    "            \"\"\"\n",
    "            var options = {\n",
    "              \"layout\": {\n",
    "                \"hierarchical\": {\n",
    "                  \"enabled\": true,\n",
    "                  \"nodeSpacing\": 120\n",
    "                }\n",
    "              },\n",
    "              \"physics\": {\n",
    "                \"hierarchicalRepulsion\": {\n",
    "                  \"centralGravity\": 0,\n",
    "                  \"nodeDistance\": 180\n",
    "                },\n",
    "                \"minVelocity\": 0.75,\n",
    "                \"solver\": \"hierarchicalRepulsion\"\n",
    "              }\n",
    "            }\n",
    "            \"\"\"\n",
    "        )\n",
    "        return net"
   ]
  },
  {
   "cell_type": "code",
   "execution_count": 34,
   "id": "unavailable-owner",
   "metadata": {
    "deletable": false,
    "editable": false,
    "nbgrader": {
     "cell_type": "code",
     "checksum": "978465f9a00c2b9faf9889b12bc020e7",
     "grade": true,
     "grade_id": "Decision_Tree_build_check",
     "locked": true,
     "points": 5,
     "schema_version": 3,
     "solution": false,
     "task": false
    },
    "ExecuteTime": {
     "end_time": "2023-08-23T09:26:37.218400Z",
     "start_time": "2023-08-23T09:26:36.269514Z"
    }
   },
   "outputs": [],
   "source": [
    "x_cols = df.columns[:3]\n",
    "y_col = 'species'\n",
    "\n",
    "clf = DecisionTree()\n",
    "clf.fit(df, x_cols, y_col)\n",
    "pred = clf.predict(df)\n",
    "assert np.all(pred[y_col] == pred[f'{y_col}_pred'])\n",
    "assert max(nx.shortest_path_length(clf.G,0).values()) == 9\n"
   ]
  },
  {
   "cell_type": "markdown",
   "id": "protected-madonna",
   "metadata": {
    "deletable": false,
    "editable": false,
    "nbgrader": {
     "cell_type": "markdown",
     "checksum": "bd4859f1dd304f117522fa8424e234c5",
     "grade": false,
     "grade_id": "cell-c42b048cb6b5e713",
     "locked": true,
     "schema_version": 3,
     "solution": false,
     "task": false
    }
   },
   "source": [
    "### Plotting\n",
    "We can plot the fitted tree with the following code. Pyvis generates an interactive html file, which we can use to explore the graph:"
   ]
  },
  {
   "cell_type": "code",
   "execution_count": 35,
   "id": "useful-terry",
   "metadata": {
    "scrolled": true,
    "ExecuteTime": {
     "end_time": "2023-08-23T09:26:37.271470Z",
     "start_time": "2023-08-23T09:26:37.218841Z"
    }
   },
   "outputs": [
    {
     "name": "stdout",
     "output_type": "stream",
     "text": [
      "tree.html\n"
     ]
    },
    {
     "data": {
      "text/plain": "<IPython.lib.display.IFrame at 0x11d7e3100>",
      "text/html": "\n        <iframe\n            width=\"900\"\n            height=\"900\"\n            src=\"tree.html\"\n            frameborder=\"0\"\n            allowfullscreen\n            \n        ></iframe>\n        "
     },
     "execution_count": 35,
     "metadata": {},
     "output_type": "execute_result"
    }
   ],
   "source": [
    "net = clf.plot()\n",
    "net.show('tree.html')"
   ]
  },
  {
   "attachments": {
    "5-fold-cv.png": {
     "image/png": "[encoded data removed]"
    }
   },
   "cell_type": "markdown",
   "id": "separate-light",
   "metadata": {
    "deletable": false,
    "editable": false,
    "nbgrader": {
     "cell_type": "markdown",
     "checksum": "fdb002007f123319a4f7fa5bd1d744f2",
     "grade": false,
     "grade_id": "cell-258b267f9d336c6a",
     "locked": true,
     "schema_version": 3,
     "solution": false,
     "task": false
    }
   },
   "source": [
    "# Validation and hyperparameter tuning\n",
    "It doesn't make any sense to fit a decision tree on the full dataset and then validate it on the same dataset.\n",
    "\n",
    "In Machine Learning you usually do at least a train-validation split: You split the dataset and use e.g. 80% to fit your model and the other 20% to predict and test the performance of your model on unseen data.\n",
    "\n",
    "![crossvalidation](attachment/crossvalidation.png)\n",
    "\n",
    "Additionally, one usually does a cross-validation: In the case of a 80:20 split we can train the model on five different combinations of independent data.\n",
    "\n",
    "So here we would use the first 20% for testing and train on the remaining part, then we use the second 20% for testing and use the other 80% for training and so on. The goal is to find model hyperparameters that show a good and stable performance amongst all splits.\n",
    "\n",
    "But how to determine performance in our case?\n",
    "\n",
    "## Metrics for multi-class classification\n",
    "\n",
    "### Confusion matrix\n",
    "We can simply make a matrix with the true labels on the y-axis and the predicted labels on the x-axis. In our case this would be a 3 x 3 matrix. In each cell of the matrix we put the number of cases the specific constellation happened. E.g. in cell (y=1, x=2) we would put the number of times the model predicted 'Iris-versicolor' but the actual label was 'Iris-setosa'. The diagonal would contain all correct predictions.\n",
    "\n",
    "### Accuracy\n",
    "The accuracy is simply:\n",
    "\\begin{align}\n",
    "Accuracy &= \\frac{Number\\,of\\,correct\\,predictions}{Total\\,number\\,of\\,predictions}\n",
    "\\end{align}\n",
    "\n",
    "Okay first of all we implement a confusion matrix."
   ]
  },
  {
   "cell_type": "code",
   "execution_count": 36,
   "id": "organized-investing",
   "metadata": {
    "deletable": false,
    "nbgrader": {
     "cell_type": "code",
     "checksum": "5d3c2b4f05514f28b1177d624e31eab7",
     "grade": false,
     "grade_id": "Confusion_matrix",
     "locked": false,
     "schema_version": 3,
     "solution": true,
     "task": false
    },
    "ExecuteTime": {
     "end_time": "2023-08-23T09:26:38.020908Z",
     "start_time": "2023-08-23T09:26:37.274432Z"
    }
   },
   "outputs": [
    {
     "data": {
      "text/plain": "Predicted        Iris-setosa  Iris-versicolor  Iris-virginica\nTrue                                                         \nIris-setosa              7.0              0.0             0.0\nIris-versicolor          0.0             10.0             1.0\nIris-virginica           0.0              2.0            10.0",
      "text/html": "<div>\n<style scoped>\n    .dataframe tbody tr th:only-of-type {\n        vertical-align: middle;\n    }\n\n    .dataframe tbody tr th {\n        vertical-align: top;\n    }\n\n    .dataframe thead th {\n        text-align: right;\n    }\n</style>\n<table border=\"1\" class=\"dataframe\">\n  <thead>\n    <tr style=\"text-align: right;\">\n      <th>Predicted</th>\n      <th>Iris-setosa</th>\n      <th>Iris-versicolor</th>\n      <th>Iris-virginica</th>\n    </tr>\n    <tr>\n      <th>True</th>\n      <th></th>\n      <th></th>\n      <th></th>\n    </tr>\n  </thead>\n  <tbody>\n    <tr>\n      <th>Iris-setosa</th>\n      <td>7.0</td>\n      <td>0.0</td>\n      <td>0.0</td>\n    </tr>\n    <tr>\n      <th>Iris-versicolor</th>\n      <td>0.0</td>\n      <td>10.0</td>\n      <td>1.0</td>\n    </tr>\n    <tr>\n      <th>Iris-virginica</th>\n      <td>0.0</td>\n      <td>2.0</td>\n      <td>10.0</td>\n    </tr>\n  </tbody>\n</table>\n</div>"
     },
     "execution_count": 36,
     "metadata": {},
     "output_type": "execute_result"
    }
   ],
   "source": [
    "x_cols = df.columns[:3]\n",
    "y_col = 'species'\n",
    "\n",
    "shuffled = df.sample(frac=1, random_state=42)\n",
    "\n",
    "train = shuffled[:120]\n",
    "test = shuffled[120:]\n",
    "\n",
    "clf = DecisionTree()\n",
    "clf.fit(train, x_cols, y_col)\n",
    "pred = clf.predict(test)\n",
    "\n",
    "confusion_matrix = pd.DataFrame(index=df['species'].unique(),\n",
    "                                columns=df['species'].unique(),\n",
    "                                data = np.zeros((3,3)))\n",
    "confusion_matrix.index.name = 'True'\n",
    "confusion_matrix.columns.name = 'Predicted'\n",
    "\n",
    "\n",
    "\n",
    "pred[\"pred_class\"] = pred.species_pred.cat.rename_categories([0, 1, 2])\n",
    "\n",
    "for i, row in pred.iterrows():\n",
    "    confusion_matrix.iloc[row[\"class\"]][row[\"pred_class\"]] += 1\n",
    "    \n",
    "confusion_matrix"
   ]
  },
  {
   "cell_type": "markdown",
   "id": "advised-unemployment",
   "metadata": {
    "deletable": false,
    "editable": false,
    "nbgrader": {
     "cell_type": "markdown",
     "checksum": "ffc89e1c49fa5b747c8d8ddae4cdd97b",
     "grade": false,
     "grade_id": "cell-220995c83c13ee49",
     "locked": true,
     "schema_version": 3,
     "solution": false,
     "task": false
    }
   },
   "source": [
    "Okay now we can start tuning our model. First we implement the accuracy calculation:"
   ]
  },
  {
   "cell_type": "code",
   "execution_count": 37,
   "id": "acceptable-williams",
   "metadata": {
    "deletable": false,
    "nbgrader": {
     "cell_type": "code",
     "checksum": "f540328b7e7c523560cb14a025383bf0",
     "grade": false,
     "grade_id": "Accuracy_function",
     "locked": false,
     "schema_version": 3,
     "solution": true,
     "task": false
    },
    "ExecuteTime": {
     "end_time": "2023-08-23T09:26:38.023415Z",
     "start_time": "2023-08-23T09:26:38.021783Z"
    }
   },
   "outputs": [],
   "source": [
    "def accuracy(df, y_col):\n",
    "\n",
    "    true = df[y_col].to_list()\n",
    "    pred = df[f\"{y_col}_pred\"].to_list()\n",
    "    acc = sum([1 for t, p in zip(true, pred) if t == p]) / df.shape[0]\n",
    "    \n",
    "    return acc"
   ]
  },
  {
   "cell_type": "code",
   "execution_count": 38,
   "id": "alternative-relative",
   "metadata": {
    "deletable": false,
    "editable": false,
    "nbgrader": {
     "cell_type": "code",
     "checksum": "dd0f54c7e8d67e2b267a3e7ed653d686",
     "grade": true,
     "grade_id": "Accuracy_function_check",
     "locked": true,
     "points": 1,
     "schema_version": 3,
     "solution": false,
     "task": false
    },
    "ExecuteTime": {
     "end_time": "2023-08-23T09:26:38.025782Z",
     "start_time": "2023-08-23T09:26:38.023993Z"
    }
   },
   "outputs": [],
   "source": [
    "assert abs(accuracy(pred, y_col) - 0.9) <= 0.1 "
   ]
  },
  {
   "cell_type": "markdown",
   "id": "hourly-architect",
   "metadata": {
    "deletable": false,
    "editable": false,
    "nbgrader": {
     "cell_type": "markdown",
     "checksum": "8c174f4ae521b7e2ca0dc0be1a8c18e1",
     "grade": false,
     "grade_id": "cell-83e2a8ffc99c3cd7",
     "locked": true,
     "schema_version": 3,
     "solution": false,
     "task": false
    }
   },
   "source": [
    "## Hyperparameter tuning\n",
    "Now let's vary the max_depth and the stop_n in a defined grid (below in the code) and do a 5-fold cross validation for each parameter combination. We work on the shuffled dataset without further reshuffling for the splits and write the mean accuracies to the `mean_accs` dataframe.\n"
   ]
  },
  {
   "cell_type": "code",
   "execution_count": 39,
   "id": "bulgarian-concrete",
   "metadata": {
    "deletable": false,
    "nbgrader": {
     "cell_type": "code",
     "checksum": "556204184b24a287a65cc55cd92f8f87",
     "grade": false,
     "grade_id": "Hyperparameter_tuning",
     "locked": false,
     "schema_version": 3,
     "solution": true,
     "task": false
    },
    "ExecuteTime": {
     "end_time": "2023-08-23T09:27:09.578258Z",
     "start_time": "2023-08-23T09:26:38.031050Z"
    }
   },
   "outputs": [
    {
     "name": "stdout",
     "output_type": "stream",
     "text": [
      "parameter configuration:\n",
      "  max depth: 4\n",
      "  stop n: 1\n",
      "result:\n",
      "  mean accuracy: 0.9333333333333333\n",
      "\n",
      "\n",
      "parameter configuration:\n",
      "  max depth: 4\n",
      "  stop n: 3\n",
      "result:\n",
      "  mean accuracy: 0.9333333333333333\n",
      "\n",
      "\n",
      "parameter configuration:\n",
      "  max depth: 4\n",
      "  stop n: 6\n",
      "result:\n",
      "  mean accuracy: 0.9333333333333333\n",
      "\n",
      "\n",
      "parameter configuration:\n",
      "  max depth: 7\n",
      "  stop n: 1\n",
      "result:\n",
      "  mean accuracy: 0.9199999999999999\n",
      "\n",
      "\n",
      "parameter configuration:\n",
      "  max depth: 7\n",
      "  stop n: 3\n",
      "result:\n",
      "  mean accuracy: 0.9266666666666665\n",
      "\n",
      "\n",
      "parameter configuration:\n",
      "  max depth: 7\n",
      "  stop n: 6\n",
      "result:\n",
      "  mean accuracy: 0.9266666666666665\n",
      "\n",
      "\n",
      "parameter configuration:\n",
      "  max depth: 10\n",
      "  stop n: 1\n",
      "result:\n",
      "  mean accuracy: 0.9199999999999999\n",
      "\n",
      "\n",
      "parameter configuration:\n",
      "  max depth: 10\n",
      "  stop n: 3\n",
      "result:\n",
      "  mean accuracy: 0.9266666666666665\n",
      "\n",
      "\n",
      "parameter configuration:\n",
      "  max depth: 10\n",
      "  stop n: 6\n",
      "result:\n",
      "  mean accuracy: 0.9266666666666665\n",
      "\n",
      "\n"
     ]
    },
    {
     "data": {
      "text/plain": "stop n            1         3         6\nmax depth                              \n4          0.933333  0.933333  0.933333\n7              0.92  0.926667  0.926667\n10             0.92  0.926667  0.926667",
      "text/html": "<div>\n<style scoped>\n    .dataframe tbody tr th:only-of-type {\n        vertical-align: middle;\n    }\n\n    .dataframe tbody tr th {\n        vertical-align: top;\n    }\n\n    .dataframe thead th {\n        text-align: right;\n    }\n</style>\n<table border=\"1\" class=\"dataframe\">\n  <thead>\n    <tr style=\"text-align: right;\">\n      <th>stop n</th>\n      <th>1</th>\n      <th>3</th>\n      <th>6</th>\n    </tr>\n    <tr>\n      <th>max depth</th>\n      <th></th>\n      <th></th>\n      <th></th>\n    </tr>\n  </thead>\n  <tbody>\n    <tr>\n      <th>4</th>\n      <td>0.933333</td>\n      <td>0.933333</td>\n      <td>0.933333</td>\n    </tr>\n    <tr>\n      <th>7</th>\n      <td>0.92</td>\n      <td>0.926667</td>\n      <td>0.926667</td>\n    </tr>\n    <tr>\n      <th>10</th>\n      <td>0.92</td>\n      <td>0.926667</td>\n      <td>0.926667</td>\n    </tr>\n  </tbody>\n</table>\n</div>"
     },
     "execution_count": 39,
     "metadata": {},
     "output_type": "execute_result"
    }
   ],
   "source": [
    "x_cols = df.columns[:3]\n",
    "y_col = 'species'\n",
    "\n",
    "max_depths = [4, 7, 10]\n",
    "stop_ns = [1, 3, 6]\n",
    "\n",
    "shuffled = df.sample(frac=1, random_state=42)\n",
    "\n",
    "mean_accs = pd.DataFrame(index=max_depths, columns=stop_ns)\n",
    "mean_accs.index.name = \"max depth\"\n",
    "mean_accs.columns.name = \"stop n\"\n",
    "\n",
    "\n",
    "k = 5\n",
    "folds = np.array_split(shuffled, k)\n",
    "\n",
    "for md in max_depths:\n",
    "    for sn in stop_ns:\n",
    "        print(\"parameter configuration:\")\n",
    "        print(f\"  max depth: {md}\")\n",
    "        print(f\"  stop n: {sn}\")\n",
    "        \n",
    "        accs = np.zeros(k)\n",
    "        for i in range(k):\n",
    "            # select one fold as test set and the other ones as training set\n",
    "            df_test = folds[i]\n",
    "            df_train = pd.concat(folds[0:i] + folds[i+1:k])\n",
    "            \n",
    "            # build decition tree\n",
    "            clf = DecisionTree()\n",
    "            \n",
    "            # train it\n",
    "            clf.fit(df_train, x_cols, y_col, max_depth=md, stop_n=sn)\n",
    "            \n",
    "            # make prediction on test set\n",
    "            pred = clf.predict(df_test)\n",
    "            \n",
    "            # evaluate prediction\n",
    "            accs[i] = (accuracy(pred, y_col))\n",
    "        mean_acc = np.mean(accs)\n",
    "        mean_accs.loc[md][sn] = mean_acc\n",
    "        \n",
    "        print(\"result:\")\n",
    "        print(f\"  mean accuracy: {mean_acc}\\n\\n\")\n",
    "        \n",
    "mean_accs"
   ]
  },
  {
   "cell_type": "markdown",
   "id": "corporate-atlanta",
   "metadata": {
    "deletable": false,
    "editable": false,
    "nbgrader": {
     "cell_type": "markdown",
     "checksum": "dccda4fb9c4b22f5b28586535f3bd565",
     "grade": false,
     "grade_id": "cell-144d180be6614b83",
     "locked": true,
     "schema_version": 3,
     "solution": false,
     "task": false
    }
   },
   "source": [
    "In general in ML one tries to find a model with the best performance, in our case the highest accuracy, and the lowest complexity to avoid overfitting and reduce computational cost. Based on this, what combination of parameters should we choose for our decision tree?"
   ]
  },
  {
   "cell_type": "code",
   "execution_count": 40,
   "id": "complicated-separation",
   "metadata": {
    "deletable": false,
    "nbgrader": {
     "cell_type": "code",
     "checksum": "723168958a1ce472e18999e501e86e4f",
     "grade": false,
     "grade_id": "Hyperparameter_tuning_q_1",
     "locked": false,
     "schema_version": 3,
     "solution": true,
     "task": false
    },
    "ExecuteTime": {
     "end_time": "2023-08-23T09:27:09.581162Z",
     "start_time": "2023-08-23T09:27:09.579208Z"
    }
   },
   "outputs": [],
   "source": [
    "max_depth = 4\n",
    "stop_n = 6"
   ]
  }
 ],
 "metadata": {
  "kernelspec": {
   "display_name": "Python 3 (ipykernel)",
   "language": "python",
   "name": "python3"
  },
  "language_info": {
   "codemirror_mode": {
    "name": "ipython",
    "version": 3
   },
   "file_extension": ".py",
   "mimetype": "text/x-python",
   "name": "python",
   "nbconvert_exporter": "python",
   "pygments_lexer": "ipython3",
   "version": "3.9.16"
  }
 },
 "nbformat": 4,
 "nbformat_minor": 5
}
